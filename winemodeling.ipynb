{
  "nbformat": 4,
  "nbformat_minor": 0,
  "metadata": {
    "colab": {
      "provenance": [],
      "authorship_tag": "ABX9TyOAYrmsdTpGOnnemxN/10mA",
      "include_colab_link": true
    },
    "kernelspec": {
      "name": "python3",
      "display_name": "Python 3"
    },
    "language_info": {
      "name": "python"
    }
  },
  "cells": [
    {
      "cell_type": "markdown",
      "metadata": {
        "id": "view-in-github",
        "colab_type": "text"
      },
      "source": [
        "<a href=\"https://colab.research.google.com/github/samp3209/wineproject/blob/main/winemodeling.ipynb\" target=\"_parent\"><img src=\"https://colab.research.google.com/assets/colab-badge.svg\" alt=\"Open In Colab\"/></a>"
      ]
    },
    {
      "cell_type": "code",
      "execution_count": 2,
      "metadata": {
        "id": "ix-xjcZp0R-A"
      },
      "outputs": [],
      "source": [
        "import pandas as pd"
      ]
    },
    {
      "cell_type": "code",
      "source": [
        "df = pd.read_csv('wine - final (1).csv')"
      ],
      "metadata": {
        "id": "vVYjNZQB0kaQ"
      },
      "execution_count": 11,
      "outputs": []
    },
    {
      "cell_type": "code",
      "source": [
        "df"
      ],
      "metadata": {
        "colab": {
          "base_uri": "https://localhost:8080/",
          "height": 424
        },
        "id": "dU3z0IMU0v36",
        "outputId": "39984129-2849-437d-de16-bd8e70caa44a"
      },
      "execution_count": 12,
      "outputs": [
        {
          "output_type": "execute_result",
          "data": {
            "text/plain": [
              "      pp750ml                                         wine_names  year  \\\n",
              "0        4.16               Al-Ria White 2022, Algarve, Portugal  2022   \n",
              "1       13.04  Fiano di Avellino DOCG 2022, Feudi di San Greg...  2022   \n",
              "2      398.39  2022 Egon Muller Wiltinger Braune Kupp Rieslin...  2022   \n",
              "3      383.91  2022 Egon Muller Wiltinger Braune Kupp Rieslin...  2022   \n",
              "4      319.38          2022 Egon Muller Scharzhof Riesling Mosel  2022   \n",
              "...       ...                                                ...   ...   \n",
              "9225  2544.43  Clos des Lambrays 1937, Dom. des Lambrays, Cot...  1937   \n",
              "9226   737.72                       1924 Kopke Vintage Port 1924  1924   \n",
              "9227  5000.00               [lot 352], Chateau Lafite Rothschild  1914   \n",
              "9228  6995.00        1914 Moet & Chandon Vintage Champagne 750ml  1914   \n",
              "9229  6995.00        1911 Moet & Chandon Vintage Champagne 750ml  1911   \n",
              "\n",
              "        price     region  country quantity  \n",
              "0        4.16    algarve     port   750 ml  \n",
              "1       13.04   campania    italy   750 ml  \n",
              "2      398.39      masel  germany   750 ml  \n",
              "3      383.91      masel  germany   750 ml  \n",
              "4      319.38      masel  germany   750 ml  \n",
              "...       ...        ...      ...      ...  \n",
              "9225  2544.43   burgundy   france   750 ml  \n",
              "9226   737.72      duoro     port   750 ml  \n",
              "9227  5000.00   bordeaux   france   750 ml  \n",
              "9228  6995.00  champagne   france   750 ml  \n",
              "9229  6995.00  champagne   france   750 ml  \n",
              "\n",
              "[9230 rows x 7 columns]"
            ],
            "text/html": [
              "\n",
              "  <div id=\"df-7117b06c-b608-461f-bc6b-f71f2f21a877\">\n",
              "    <div class=\"colab-df-container\">\n",
              "      <div>\n",
              "<style scoped>\n",
              "    .dataframe tbody tr th:only-of-type {\n",
              "        vertical-align: middle;\n",
              "    }\n",
              "\n",
              "    .dataframe tbody tr th {\n",
              "        vertical-align: top;\n",
              "    }\n",
              "\n",
              "    .dataframe thead th {\n",
              "        text-align: right;\n",
              "    }\n",
              "</style>\n",
              "<table border=\"1\" class=\"dataframe\">\n",
              "  <thead>\n",
              "    <tr style=\"text-align: right;\">\n",
              "      <th></th>\n",
              "      <th>pp750ml</th>\n",
              "      <th>wine_names</th>\n",
              "      <th>year</th>\n",
              "      <th>price</th>\n",
              "      <th>region</th>\n",
              "      <th>country</th>\n",
              "      <th>quantity</th>\n",
              "    </tr>\n",
              "  </thead>\n",
              "  <tbody>\n",
              "    <tr>\n",
              "      <th>0</th>\n",
              "      <td>4.16</td>\n",
              "      <td>Al-Ria White 2022, Algarve, Portugal</td>\n",
              "      <td>2022</td>\n",
              "      <td>4.16</td>\n",
              "      <td>algarve</td>\n",
              "      <td>port</td>\n",
              "      <td>750 ml</td>\n",
              "    </tr>\n",
              "    <tr>\n",
              "      <th>1</th>\n",
              "      <td>13.04</td>\n",
              "      <td>Fiano di Avellino DOCG 2022, Feudi di San Greg...</td>\n",
              "      <td>2022</td>\n",
              "      <td>13.04</td>\n",
              "      <td>campania</td>\n",
              "      <td>italy</td>\n",
              "      <td>750 ml</td>\n",
              "    </tr>\n",
              "    <tr>\n",
              "      <th>2</th>\n",
              "      <td>398.39</td>\n",
              "      <td>2022 Egon Muller Wiltinger Braune Kupp Rieslin...</td>\n",
              "      <td>2022</td>\n",
              "      <td>398.39</td>\n",
              "      <td>masel</td>\n",
              "      <td>germany</td>\n",
              "      <td>750 ml</td>\n",
              "    </tr>\n",
              "    <tr>\n",
              "      <th>3</th>\n",
              "      <td>383.91</td>\n",
              "      <td>2022 Egon Muller Wiltinger Braune Kupp Rieslin...</td>\n",
              "      <td>2022</td>\n",
              "      <td>383.91</td>\n",
              "      <td>masel</td>\n",
              "      <td>germany</td>\n",
              "      <td>750 ml</td>\n",
              "    </tr>\n",
              "    <tr>\n",
              "      <th>4</th>\n",
              "      <td>319.38</td>\n",
              "      <td>2022 Egon Muller Scharzhof Riesling Mosel</td>\n",
              "      <td>2022</td>\n",
              "      <td>319.38</td>\n",
              "      <td>masel</td>\n",
              "      <td>germany</td>\n",
              "      <td>750 ml</td>\n",
              "    </tr>\n",
              "    <tr>\n",
              "      <th>...</th>\n",
              "      <td>...</td>\n",
              "      <td>...</td>\n",
              "      <td>...</td>\n",
              "      <td>...</td>\n",
              "      <td>...</td>\n",
              "      <td>...</td>\n",
              "      <td>...</td>\n",
              "    </tr>\n",
              "    <tr>\n",
              "      <th>9225</th>\n",
              "      <td>2544.43</td>\n",
              "      <td>Clos des Lambrays 1937, Dom. des Lambrays, Cot...</td>\n",
              "      <td>1937</td>\n",
              "      <td>2544.43</td>\n",
              "      <td>burgundy</td>\n",
              "      <td>france</td>\n",
              "      <td>750 ml</td>\n",
              "    </tr>\n",
              "    <tr>\n",
              "      <th>9226</th>\n",
              "      <td>737.72</td>\n",
              "      <td>1924 Kopke Vintage Port 1924</td>\n",
              "      <td>1924</td>\n",
              "      <td>737.72</td>\n",
              "      <td>duoro</td>\n",
              "      <td>port</td>\n",
              "      <td>750 ml</td>\n",
              "    </tr>\n",
              "    <tr>\n",
              "      <th>9227</th>\n",
              "      <td>5000.00</td>\n",
              "      <td>[lot 352], Chateau Lafite Rothschild</td>\n",
              "      <td>1914</td>\n",
              "      <td>5000.00</td>\n",
              "      <td>bordeaux</td>\n",
              "      <td>france</td>\n",
              "      <td>750 ml</td>\n",
              "    </tr>\n",
              "    <tr>\n",
              "      <th>9228</th>\n",
              "      <td>6995.00</td>\n",
              "      <td>1914 Moet &amp; Chandon Vintage Champagne 750ml</td>\n",
              "      <td>1914</td>\n",
              "      <td>6995.00</td>\n",
              "      <td>champagne</td>\n",
              "      <td>france</td>\n",
              "      <td>750 ml</td>\n",
              "    </tr>\n",
              "    <tr>\n",
              "      <th>9229</th>\n",
              "      <td>6995.00</td>\n",
              "      <td>1911 Moet &amp; Chandon Vintage Champagne 750ml</td>\n",
              "      <td>1911</td>\n",
              "      <td>6995.00</td>\n",
              "      <td>champagne</td>\n",
              "      <td>france</td>\n",
              "      <td>750 ml</td>\n",
              "    </tr>\n",
              "  </tbody>\n",
              "</table>\n",
              "<p>9230 rows × 7 columns</p>\n",
              "</div>\n",
              "      <button class=\"colab-df-convert\" onclick=\"convertToInteractive('df-7117b06c-b608-461f-bc6b-f71f2f21a877')\"\n",
              "              title=\"Convert this dataframe to an interactive table.\"\n",
              "              style=\"display:none;\">\n",
              "        \n",
              "  <svg xmlns=\"http://www.w3.org/2000/svg\" height=\"24px\"viewBox=\"0 0 24 24\"\n",
              "       width=\"24px\">\n",
              "    <path d=\"M0 0h24v24H0V0z\" fill=\"none\"/>\n",
              "    <path d=\"M18.56 5.44l.94 2.06.94-2.06 2.06-.94-2.06-.94-.94-2.06-.94 2.06-2.06.94zm-11 1L8.5 8.5l.94-2.06 2.06-.94-2.06-.94L8.5 2.5l-.94 2.06-2.06.94zm10 10l.94 2.06.94-2.06 2.06-.94-2.06-.94-.94-2.06-.94 2.06-2.06.94z\"/><path d=\"M17.41 7.96l-1.37-1.37c-.4-.4-.92-.59-1.43-.59-.52 0-1.04.2-1.43.59L10.3 9.45l-7.72 7.72c-.78.78-.78 2.05 0 2.83L4 21.41c.39.39.9.59 1.41.59.51 0 1.02-.2 1.41-.59l7.78-7.78 2.81-2.81c.8-.78.8-2.07 0-2.86zM5.41 20L4 18.59l7.72-7.72 1.47 1.35L5.41 20z\"/>\n",
              "  </svg>\n",
              "      </button>\n",
              "      \n",
              "  <style>\n",
              "    .colab-df-container {\n",
              "      display:flex;\n",
              "      flex-wrap:wrap;\n",
              "      gap: 12px;\n",
              "    }\n",
              "\n",
              "    .colab-df-convert {\n",
              "      background-color: #E8F0FE;\n",
              "      border: none;\n",
              "      border-radius: 50%;\n",
              "      cursor: pointer;\n",
              "      display: none;\n",
              "      fill: #1967D2;\n",
              "      height: 32px;\n",
              "      padding: 0 0 0 0;\n",
              "      width: 32px;\n",
              "    }\n",
              "\n",
              "    .colab-df-convert:hover {\n",
              "      background-color: #E2EBFA;\n",
              "      box-shadow: 0px 1px 2px rgba(60, 64, 67, 0.3), 0px 1px 3px 1px rgba(60, 64, 67, 0.15);\n",
              "      fill: #174EA6;\n",
              "    }\n",
              "\n",
              "    [theme=dark] .colab-df-convert {\n",
              "      background-color: #3B4455;\n",
              "      fill: #D2E3FC;\n",
              "    }\n",
              "\n",
              "    [theme=dark] .colab-df-convert:hover {\n",
              "      background-color: #434B5C;\n",
              "      box-shadow: 0px 1px 3px 1px rgba(0, 0, 0, 0.15);\n",
              "      filter: drop-shadow(0px 1px 2px rgba(0, 0, 0, 0.3));\n",
              "      fill: #FFFFFF;\n",
              "    }\n",
              "  </style>\n",
              "\n",
              "      <script>\n",
              "        const buttonEl =\n",
              "          document.querySelector('#df-7117b06c-b608-461f-bc6b-f71f2f21a877 button.colab-df-convert');\n",
              "        buttonEl.style.display =\n",
              "          google.colab.kernel.accessAllowed ? 'block' : 'none';\n",
              "\n",
              "        async function convertToInteractive(key) {\n",
              "          const element = document.querySelector('#df-7117b06c-b608-461f-bc6b-f71f2f21a877');\n",
              "          const dataTable =\n",
              "            await google.colab.kernel.invokeFunction('convertToInteractive',\n",
              "                                                     [key], {});\n",
              "          if (!dataTable) return;\n",
              "\n",
              "          const docLinkHtml = 'Like what you see? Visit the ' +\n",
              "            '<a target=\"_blank\" href=https://colab.research.google.com/notebooks/data_table.ipynb>data table notebook</a>'\n",
              "            + ' to learn more about interactive tables.';\n",
              "          element.innerHTML = '';\n",
              "          dataTable['output_type'] = 'display_data';\n",
              "          await google.colab.output.renderOutput(dataTable, element);\n",
              "          const docLink = document.createElement('div');\n",
              "          docLink.innerHTML = docLinkHtml;\n",
              "          element.appendChild(docLink);\n",
              "        }\n",
              "      </script>\n",
              "    </div>\n",
              "  </div>\n",
              "  "
            ]
          },
          "metadata": {},
          "execution_count": 12
        }
      ]
    },
    {
      "cell_type": "code",
      "source": [
        "# one hot encode the region and country columns\n",
        "region_dummies = pd.get_dummies(df['region'], prefix='region')\n",
        "country_dummies = pd.get_dummies(df['country'], prefix='country')\n",
        "\n",
        "# concatenate the original dataframe with the one hot encoded columns\n",
        "df = pd.concat([df, region_dummies, country_dummies], axis=1)\n",
        "\n",
        "# drop the original region and country columns\n",
        "df = df.drop(['region', 'country', 'price'], axis=1)\n",
        "\n",
        "# show the resulting dataframe\n",
        "print(df)"
      ],
      "metadata": {
        "colab": {
          "base_uri": "https://localhost:8080/"
        },
        "id": "HL0GZAVT00cE",
        "outputId": "bf5aba1d-f86a-4574-944d-c71ad9849166"
      },
      "execution_count": 13,
      "outputs": [
        {
          "output_type": "stream",
          "name": "stdout",
          "text": [
            "      pp750ml                                         wine_names  year  \\\n",
            "0        4.16               Al-Ria White 2022, Algarve, Portugal  2022   \n",
            "1       13.04  Fiano di Avellino DOCG 2022, Feudi di San Greg...  2022   \n",
            "2      398.39  2022 Egon Muller Wiltinger Braune Kupp Rieslin...  2022   \n",
            "3      383.91  2022 Egon Muller Wiltinger Braune Kupp Rieslin...  2022   \n",
            "4      319.38          2022 Egon Muller Scharzhof Riesling Mosel  2022   \n",
            "...       ...                                                ...   ...   \n",
            "9225  2544.43  Clos des Lambrays 1937, Dom. des Lambrays, Cot...  1937   \n",
            "9226   737.72                       1924 Kopke Vintage Port 1924  1924   \n",
            "9227  5000.00               [lot 352], Chateau Lafite Rothschild  1914   \n",
            "9228  6995.00        1914 Moet & Chandon Vintage Champagne 750ml  1914   \n",
            "9229  6995.00        1911 Moet & Chandon Vintage Champagne 750ml  1911   \n",
            "\n",
            "     quantity  region_Rheinhessen  region_algarve  region_alsace  \\\n",
            "0      750 ml                   0               1              0   \n",
            "1      750 ml                   0               0              0   \n",
            "2      750 ml                   0               0              0   \n",
            "3      750 ml                   0               0              0   \n",
            "4      750 ml                   0               0              0   \n",
            "...       ...                 ...             ...            ...   \n",
            "9225   750 ml                   0               0              0   \n",
            "9226   750 ml                   0               0              0   \n",
            "9227   750 ml                   0               0              0   \n",
            "9228   750 ml                   0               0              0   \n",
            "9229   750 ml                   0               0              0   \n",
            "\n",
            "      region_baden  region_bordeaux  region_burgundy  ...  region_piedmont  \\\n",
            "0                0                0                0  ...                0   \n",
            "1                0                0                0  ...                0   \n",
            "2                0                0                0  ...                0   \n",
            "3                0                0                0  ...                0   \n",
            "4                0                0                0  ...                0   \n",
            "...            ...              ...              ...  ...              ...   \n",
            "9225             0                0                1  ...                0   \n",
            "9226             0                0                0  ...                0   \n",
            "9227             0                1                0  ...                0   \n",
            "9228             0                0                0  ...                0   \n",
            "9229             0                0                0  ...                0   \n",
            "\n",
            "      region_rhone  region_sicily  region_umbria  region_wurrtenberg  \\\n",
            "0                0              0              0                   0   \n",
            "1                0              0              0                   0   \n",
            "2                0              0              0                   0   \n",
            "3                0              0              0                   0   \n",
            "4                0              0              0                   0   \n",
            "...            ...            ...            ...                 ...   \n",
            "9225             0              0              0                   0   \n",
            "9226             0              0              0                   0   \n",
            "9227             0              0              0                   0   \n",
            "9228             0              0              0                   0   \n",
            "9229             0              0              0                   0   \n",
            "\n",
            "      country_cali  country_france  country_germany  country_italy  \\\n",
            "0                0               0                0              0   \n",
            "1                0               0                0              1   \n",
            "2                0               0                1              0   \n",
            "3                0               0                1              0   \n",
            "4                0               0                1              0   \n",
            "...            ...             ...              ...            ...   \n",
            "9225             0               1                0              0   \n",
            "9226             0               0                0              0   \n",
            "9227             0               1                0              0   \n",
            "9228             0               1                0              0   \n",
            "9229             0               1                0              0   \n",
            "\n",
            "      country_port  \n",
            "0                1  \n",
            "1                0  \n",
            "2                0  \n",
            "3                0  \n",
            "4                0  \n",
            "...            ...  \n",
            "9225             0  \n",
            "9226             1  \n",
            "9227             0  \n",
            "9228             0  \n",
            "9229             0  \n",
            "\n",
            "[9230 rows x 28 columns]\n"
          ]
        }
      ]
    },
    {
      "cell_type": "code",
      "source": [
        "pip install fuzzywuzzy"
      ],
      "metadata": {
        "id": "Zge5WzQ9iJy4",
        "outputId": "30abe851-268a-446b-c471-5e8872c7b696",
        "colab": {
          "base_uri": "https://localhost:8080/"
        }
      },
      "execution_count": 31,
      "outputs": [
        {
          "output_type": "stream",
          "name": "stdout",
          "text": [
            "Looking in indexes: https://pypi.org/simple, https://us-python.pkg.dev/colab-wheels/public/simple/\n",
            "Collecting fuzzywuzzy\n",
            "  Downloading fuzzywuzzy-0.18.0-py2.py3-none-any.whl (18 kB)\n",
            "Installing collected packages: fuzzywuzzy\n",
            "Successfully installed fuzzywuzzy-0.18.0\n"
          ]
        }
      ]
    },
    {
      "cell_type": "code",
      "source": [
        "pip install textdistance"
      ],
      "metadata": {
        "id": "-tvR3R5KiJ4p",
        "outputId": "57edd3a6-1e1e-44de-f422-6297fd93feeb",
        "colab": {
          "base_uri": "https://localhost:8080/"
        }
      },
      "execution_count": 28,
      "outputs": [
        {
          "output_type": "stream",
          "name": "stdout",
          "text": [
            "Looking in indexes: https://pypi.org/simple, https://us-python.pkg.dev/colab-wheels/public/simple/\n",
            "Collecting textdistance\n",
            "  Downloading textdistance-4.5.0-py3-none-any.whl (31 kB)\n",
            "Installing collected packages: textdistance\n",
            "Successfully installed textdistance-4.5.0\n"
          ]
        }
      ]
    },
    {
      "cell_type": "code",
      "source": [
        "from fuzzywuzzy import fuzz\n",
        "\n",
        "# example wine names\n",
        "wine_names = ['Chateau Margaux', 'Chateau Margeaux', 'Margaux Chateau', 'Margeaux']\n",
        "\n",
        "# compute pairwise Levenshtein distance\n",
        "for i in range(len(wine_names)):\n",
        "    for j in range(i+1, len(wine_names)):\n",
        "        print(wine_names[i], wine_names[j], fuzz.ratio(wine_names[i], wine_names[j]))"
      ],
      "metadata": {
        "id": "p_XpsX8HiIRr",
        "outputId": "ec08f6d4-dc20-49eb-da43-cdbf09cb8bed",
        "colab": {
          "base_uri": "https://localhost:8080/"
        }
      },
      "execution_count": 32,
      "outputs": [
        {
          "output_type": "stream",
          "name": "stdout",
          "text": [
            "Chateau Margaux Chateau Margeaux 97\n",
            "Chateau Margaux Margaux Chateau 47\n",
            "Chateau Margaux Margeaux 61\n",
            "Chateau Margeaux Margaux Chateau 45\n",
            "Chateau Margeaux Margeaux 67\n",
            "Margaux Chateau Margeaux 61\n"
          ]
        },
        {
          "output_type": "stream",
          "name": "stderr",
          "text": [
            "/usr/local/lib/python3.9/dist-packages/fuzzywuzzy/fuzz.py:11: UserWarning: Using slow pure-python SequenceMatcher. Install python-Levenshtein to remove this warning\n",
            "  warnings.warn('Using slow pure-python SequenceMatcher. Install python-Levenshtein to remove this warning')\n"
          ]
        }
      ]
    },
    {
      "cell_type": "code",
      "source": [
        "from fuzzywuzzy import process\n",
        "\n",
        "# example wine names\n",
        "wine_names = df['wine_names']\n",
        "\n",
        "# create a dictionary of common names based on similarity\n",
        "common_names = {}\n",
        "for wine_name in wine_names:\n",
        "    match = process.extractOne(wine_name, common_names.keys(), scorer=fuzz.ratio)\n",
        "    if match is not None and match[1] >= 90:  # adjust similarity threshold as needed\n",
        "        common_names[match[0]].append(wine_name)\n",
        "    else:\n",
        "        common_names[wine_name] = [wine_name]\n",
        "\n",
        "# assign common names to each wine\n",
        "for i, wine_name in enumerate(wine_names):\n",
        "    for common_name, wines in common_names.items():\n",
        "        if wine_name in wines:\n",
        "            wine_names[i] = common_name\n",
        "            break\n",
        "\n",
        "print(wine_names)"
      ],
      "metadata": {
        "id": "laxEQdZUjAUw"
      },
      "execution_count": null,
      "outputs": []
    },
    {
      "cell_type": "code",
      "source": [
        "x= df['pp750ml']\n",
        "y = df.loc[:, ~df.columns.isin(['pp750ml', 'wine_names'])]"
      ],
      "metadata": {
        "id": "gioBV98LfDEy"
      },
      "execution_count": 18,
      "outputs": []
    },
    {
      "cell_type": "code",
      "source": [
        "from sklearn.model_selection import train_test_split\n",
        "import numpy as np \n",
        "X_train, X_test, y_train, y_test = train_test_split(x, y)"
      ],
      "metadata": {
        "id": "HGcppgm-3uTP"
      },
      "execution_count": 23,
      "outputs": []
    },
    {
      "cell_type": "code",
      "source": [
        "df['wine_names'].nunique()"
      ],
      "metadata": {
        "id": "drxngFaYgE1Q",
        "outputId": "fd716642-0915-424d-d543-02d188a30f6b",
        "colab": {
          "base_uri": "https://localhost:8080/"
        }
      },
      "execution_count": 26,
      "outputs": [
        {
          "output_type": "execute_result",
          "data": {
            "text/plain": [
              "7492"
            ]
          },
          "metadata": {},
          "execution_count": 26
        }
      ]
    },
    {
      "cell_type": "code",
      "source": [
        "from sklearn.linear_model import LinearRegression\n",
        "\n",
        "# Initialize the model\n",
        "model = LinearRegression()\n",
        "\n",
        "# Fit the model to your data\n",
        "model.fit(X_train, y_train)\n",
        "\n",
        "# Make predictions on new data\n",
        "y_pred = model.predict(X_test)"
      ],
      "metadata": {
        "id": "o_Zh3Oxj3vS9",
        "colab": {
          "base_uri": "https://localhost:8080/",
          "height": 432
        },
        "outputId": "0212244d-c781-4e3e-ead2-df3cc213f429"
      },
      "execution_count": 24,
      "outputs": [
        {
          "output_type": "error",
          "ename": "ValueError",
          "evalue": "ignored",
          "traceback": [
            "\u001b[0;31m---------------------------------------------------------------------------\u001b[0m",
            "\u001b[0;31mValueError\u001b[0m                                Traceback (most recent call last)",
            "\u001b[0;32m<ipython-input-24-61817ba7f131>\u001b[0m in \u001b[0;36m<cell line: 7>\u001b[0;34m()\u001b[0m\n\u001b[1;32m      5\u001b[0m \u001b[0;34m\u001b[0m\u001b[0m\n\u001b[1;32m      6\u001b[0m \u001b[0;31m# Fit the model to your data\u001b[0m\u001b[0;34m\u001b[0m\u001b[0;34m\u001b[0m\u001b[0m\n\u001b[0;32m----> 7\u001b[0;31m \u001b[0mmodel\u001b[0m\u001b[0;34m.\u001b[0m\u001b[0mfit\u001b[0m\u001b[0;34m(\u001b[0m\u001b[0mX_train\u001b[0m\u001b[0;34m,\u001b[0m \u001b[0my_train\u001b[0m\u001b[0;34m)\u001b[0m\u001b[0;34m\u001b[0m\u001b[0;34m\u001b[0m\u001b[0m\n\u001b[0m\u001b[1;32m      8\u001b[0m \u001b[0;34m\u001b[0m\u001b[0m\n\u001b[1;32m      9\u001b[0m \u001b[0;31m# Make predictions on new data\u001b[0m\u001b[0;34m\u001b[0m\u001b[0;34m\u001b[0m\u001b[0m\n",
            "\u001b[0;32m/usr/local/lib/python3.9/dist-packages/sklearn/linear_model/_base.py\u001b[0m in \u001b[0;36mfit\u001b[0;34m(self, X, y, sample_weight)\u001b[0m\n\u001b[1;32m    646\u001b[0m         \u001b[0maccept_sparse\u001b[0m \u001b[0;34m=\u001b[0m \u001b[0;32mFalse\u001b[0m \u001b[0;32mif\u001b[0m \u001b[0mself\u001b[0m\u001b[0;34m.\u001b[0m\u001b[0mpositive\u001b[0m \u001b[0;32melse\u001b[0m \u001b[0;34m[\u001b[0m\u001b[0;34m\"csr\"\u001b[0m\u001b[0;34m,\u001b[0m \u001b[0;34m\"csc\"\u001b[0m\u001b[0;34m,\u001b[0m \u001b[0;34m\"coo\"\u001b[0m\u001b[0;34m]\u001b[0m\u001b[0;34m\u001b[0m\u001b[0;34m\u001b[0m\u001b[0m\n\u001b[1;32m    647\u001b[0m \u001b[0;34m\u001b[0m\u001b[0m\n\u001b[0;32m--> 648\u001b[0;31m         X, y = self._validate_data(\n\u001b[0m\u001b[1;32m    649\u001b[0m             \u001b[0mX\u001b[0m\u001b[0;34m,\u001b[0m \u001b[0my\u001b[0m\u001b[0;34m,\u001b[0m \u001b[0maccept_sparse\u001b[0m\u001b[0;34m=\u001b[0m\u001b[0maccept_sparse\u001b[0m\u001b[0;34m,\u001b[0m \u001b[0my_numeric\u001b[0m\u001b[0;34m=\u001b[0m\u001b[0;32mTrue\u001b[0m\u001b[0;34m,\u001b[0m \u001b[0mmulti_output\u001b[0m\u001b[0;34m=\u001b[0m\u001b[0;32mTrue\u001b[0m\u001b[0;34m\u001b[0m\u001b[0;34m\u001b[0m\u001b[0m\n\u001b[1;32m    650\u001b[0m         )\n",
            "\u001b[0;32m/usr/local/lib/python3.9/dist-packages/sklearn/base.py\u001b[0m in \u001b[0;36m_validate_data\u001b[0;34m(self, X, y, reset, validate_separately, **check_params)\u001b[0m\n\u001b[1;32m    582\u001b[0m                 \u001b[0my\u001b[0m \u001b[0;34m=\u001b[0m \u001b[0mcheck_array\u001b[0m\u001b[0;34m(\u001b[0m\u001b[0my\u001b[0m\u001b[0;34m,\u001b[0m \u001b[0minput_name\u001b[0m\u001b[0;34m=\u001b[0m\u001b[0;34m\"y\"\u001b[0m\u001b[0;34m,\u001b[0m \u001b[0;34m**\u001b[0m\u001b[0mcheck_y_params\u001b[0m\u001b[0;34m)\u001b[0m\u001b[0;34m\u001b[0m\u001b[0;34m\u001b[0m\u001b[0m\n\u001b[1;32m    583\u001b[0m             \u001b[0;32melse\u001b[0m\u001b[0;34m:\u001b[0m\u001b[0;34m\u001b[0m\u001b[0;34m\u001b[0m\u001b[0m\n\u001b[0;32m--> 584\u001b[0;31m                 \u001b[0mX\u001b[0m\u001b[0;34m,\u001b[0m \u001b[0my\u001b[0m \u001b[0;34m=\u001b[0m \u001b[0mcheck_X_y\u001b[0m\u001b[0;34m(\u001b[0m\u001b[0mX\u001b[0m\u001b[0;34m,\u001b[0m \u001b[0my\u001b[0m\u001b[0;34m,\u001b[0m \u001b[0;34m**\u001b[0m\u001b[0mcheck_params\u001b[0m\u001b[0;34m)\u001b[0m\u001b[0;34m\u001b[0m\u001b[0;34m\u001b[0m\u001b[0m\n\u001b[0m\u001b[1;32m    585\u001b[0m             \u001b[0mout\u001b[0m \u001b[0;34m=\u001b[0m \u001b[0mX\u001b[0m\u001b[0;34m,\u001b[0m \u001b[0my\u001b[0m\u001b[0;34m\u001b[0m\u001b[0;34m\u001b[0m\u001b[0m\n\u001b[1;32m    586\u001b[0m \u001b[0;34m\u001b[0m\u001b[0m\n",
            "\u001b[0;32m/usr/local/lib/python3.9/dist-packages/sklearn/utils/validation.py\u001b[0m in \u001b[0;36mcheck_X_y\u001b[0;34m(X, y, accept_sparse, accept_large_sparse, dtype, order, copy, force_all_finite, ensure_2d, allow_nd, multi_output, ensure_min_samples, ensure_min_features, y_numeric, estimator)\u001b[0m\n\u001b[1;32m   1104\u001b[0m         )\n\u001b[1;32m   1105\u001b[0m \u001b[0;34m\u001b[0m\u001b[0m\n\u001b[0;32m-> 1106\u001b[0;31m     X = check_array(\n\u001b[0m\u001b[1;32m   1107\u001b[0m         \u001b[0mX\u001b[0m\u001b[0;34m,\u001b[0m\u001b[0;34m\u001b[0m\u001b[0;34m\u001b[0m\u001b[0m\n\u001b[1;32m   1108\u001b[0m         \u001b[0maccept_sparse\u001b[0m\u001b[0;34m=\u001b[0m\u001b[0maccept_sparse\u001b[0m\u001b[0;34m,\u001b[0m\u001b[0;34m\u001b[0m\u001b[0;34m\u001b[0m\u001b[0m\n",
            "\u001b[0;32m/usr/local/lib/python3.9/dist-packages/sklearn/utils/validation.py\u001b[0m in \u001b[0;36mcheck_array\u001b[0;34m(array, accept_sparse, accept_large_sparse, dtype, order, copy, force_all_finite, ensure_2d, allow_nd, ensure_min_samples, ensure_min_features, estimator, input_name)\u001b[0m\n\u001b[1;32m    900\u001b[0m             \u001b[0;31m# If input is 1D raise error\u001b[0m\u001b[0;34m\u001b[0m\u001b[0;34m\u001b[0m\u001b[0m\n\u001b[1;32m    901\u001b[0m             \u001b[0;32mif\u001b[0m \u001b[0marray\u001b[0m\u001b[0;34m.\u001b[0m\u001b[0mndim\u001b[0m \u001b[0;34m==\u001b[0m \u001b[0;36m1\u001b[0m\u001b[0;34m:\u001b[0m\u001b[0;34m\u001b[0m\u001b[0;34m\u001b[0m\u001b[0m\n\u001b[0;32m--> 902\u001b[0;31m                 raise ValueError(\n\u001b[0m\u001b[1;32m    903\u001b[0m                     \u001b[0;34m\"Expected 2D array, got 1D array instead:\\narray={}.\\n\"\u001b[0m\u001b[0;34m\u001b[0m\u001b[0;34m\u001b[0m\u001b[0m\n\u001b[1;32m    904\u001b[0m                     \u001b[0;34m\"Reshape your data either using array.reshape(-1, 1) if \"\u001b[0m\u001b[0;34m\u001b[0m\u001b[0;34m\u001b[0m\u001b[0m\n",
            "\u001b[0;31mValueError\u001b[0m: Expected 2D array, got 1D array instead:\narray=[  16.99  125.     48.95 ... 5680.   2621.    172.5 ].\nReshape your data either using array.reshape(-1, 1) if your data has a single feature or array.reshape(1, -1) if it contains a single sample."
          ]
        }
      ]
    },
    {
      "cell_type": "code",
      "source": [
        "from sklearn.tree import DecisionTreeRegressor\n",
        "\n",
        "# Initialize the model\n",
        "model = DecisionTreeRegressor()\n",
        "\n",
        "# Fit the model to your data\n",
        "model.fit(X_train, y_train)\n",
        "\n",
        "# Make predictions on new data\n",
        "y_pred = model.predict(X_test)"
      ],
      "metadata": {
        "id": "FYT5rmEV89SC"
      },
      "execution_count": null,
      "outputs": []
    },
    {
      "cell_type": "code",
      "source": [
        "from sklearn.ensemble import RandomForestRegressor\n",
        "\n",
        "# Initialize the model\n",
        "model = RandomForestRegressor()\n",
        "\n",
        "# Fit the model to your data\n",
        "model.fit(X_train, y_train)\n",
        "\n",
        "# Make predictions on new data\n",
        "y_pred = model.predict(X_test)"
      ],
      "metadata": {
        "id": "DeFLqy9I9ACS"
      },
      "execution_count": null,
      "outputs": []
    },
    {
      "cell_type": "code",
      "source": [
        "from sklearn.svm import SVR\n",
        "\n",
        "# Initialize the model\n",
        "model = SVR()\n",
        "\n",
        "# Fit the model to your data\n",
        "model.fit(X_train, y_train)\n",
        "\n",
        "# Make predictions on new data\n",
        "y_pred = model.predict(X_test)"
      ],
      "metadata": {
        "id": "_etIh-gg9Dn7"
      },
      "execution_count": null,
      "outputs": []
    }
  ]
}