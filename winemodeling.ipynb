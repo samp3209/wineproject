{
  "nbformat": 4,
  "nbformat_minor": 0,
  "metadata": {
    "colab": {
      "provenance": [],
      "toc_visible": true,
      "authorship_tag": "ABX9TyOwjPv5ymG3tNvbraNZOl+H",
      "include_colab_link": true
    },
    "kernelspec": {
      "name": "python3",
      "display_name": "Python 3"
    },
    "language_info": {
      "name": "python"
    }
  },
  "cells": [
    {
      "cell_type": "markdown",
      "metadata": {
        "id": "view-in-github",
        "colab_type": "text"
      },
      "source": [
        "<a href=\"https://colab.research.google.com/github/samp3209/wineproject/blob/main/winemodeling.ipynb\" target=\"_parent\"><img src=\"https://colab.research.google.com/assets/colab-badge.svg\" alt=\"Open In Colab\"/></a>"
      ]
    },
    {
      "cell_type": "markdown",
      "source": [
        "# Code import and transformation\n"
      ],
      "metadata": {
        "id": "B1DY199Q_JAq"
      }
    },
    {
      "cell_type": "code",
      "execution_count": 16,
      "metadata": {
        "id": "ix-xjcZp0R-A"
      },
      "outputs": [],
      "source": [
        "import pandas as pd"
      ]
    },
    {
      "cell_type": "code",
      "source": [
        "df = pd.read_csv('wine - df.csv')"
      ],
      "metadata": {
        "id": "vVYjNZQB0kaQ"
      },
      "execution_count": 109,
      "outputs": []
    },
    {
      "cell_type": "code",
      "source": [
        "df"
      ],
      "metadata": {
        "colab": {
          "base_uri": "https://localhost:8080/",
          "height": 424
        },
        "id": "dU3z0IMU0v36",
        "outputId": "67dfef42-5234-4148-a025-99da239ab871"
      },
      "execution_count": 110,
      "outputs": [
        {
          "output_type": "execute_result",
          "data": {
            "text/plain": [
              "      pp750ml                                         wine_names  year  price  \\\n",
              "0       10.30       Red Wine Cabrita 2017, 75cl Regional Algarve  2017  10.30   \n",
              "1       17.99  2017, QUINTA DO CONVENTO DO PARAISO \"EUPHORIA\"...  2017  17.99   \n",
              "2        7.51  Adega do Cantor - Sociedade de Vitivinicultura...  2015   7.51   \n",
              "3        7.51  Adega do Cantor - Sociedade de Vitivinicultura...  2014   7.51   \n",
              "4       13.56         Al-Ria Reserve Red 2019, Algarve, Portugal  2019  13.56   \n",
              "...       ...                                                ...   ...    ...   \n",
              "9225    53.39  Weingut Graf Neipperg, Schlossberg Spatburgund...  2017  53.39   \n",
              "9226    56.66  Weingut Graf Neipperg, Schlossberg Spatburgund...  2016  56.66   \n",
              "9227    63.20  Weingut Graf Neipperg, Schlossberg Spatburgund...  2014  63.20   \n",
              "9228    73.01  Weingut Graf Neipperg, Schlossberg Spatburgund...  2011  73.01   \n",
              "9229    21.99  2016 Weingut Rainer Schnaitmann Simonroth Lemb...  2016  21.99   \n",
              "\n",
              "           region  country quantity   ml numbottles  \\\n",
              "0         algarve     port   750 ml  750          1   \n",
              "1         algarve     port   750 ml  750          1   \n",
              "2         algarve     port   750 ml  750          1   \n",
              "3         algarve     port   750 ml  750          1   \n",
              "4         algarve     port   750 ml  750          1   \n",
              "...           ...      ...      ...  ...        ...   \n",
              "9225  wurrtenberg  germany   750 ml  750          1   \n",
              "9226  wurrtenberg  germany   750 ml  750          1   \n",
              "9227  wurrtenberg  germany   750 ml  750          1   \n",
              "9228  wurrtenberg  germany   750 ml  750          1   \n",
              "9229  wurrtenberg  germany   750 ml  750          1   \n",
              "\n",
              "                                              new_names  \n",
              "0                                      cabrita regional  \n",
              "1      quinta do convento do paraiso euphoria vinho ...  \n",
              "2     adega do cantor sociedade de vitiviniculturada...  \n",
              "3     adega do cantor sociedade de vitiviniculturada...  \n",
              "4                                           alria white  \n",
              "...                                                 ...  \n",
              "9225      weingut graf neipperg schlossberg riesling gg  \n",
              "9226      weingut graf neipperg schlossberg riesling gg  \n",
              "9227      weingut graf neipperg schlossberg riesling gg  \n",
              "9228      weingut graf neipperg schlossberg riesling gg  \n",
              "9229  weingut rainer schnaitmann simonrothemberger w...  \n",
              "\n",
              "[9230 rows x 10 columns]"
            ],
            "text/html": [
              "\n",
              "  <div id=\"df-a54e35e6-f19b-4097-9306-38f0244f4a0a\">\n",
              "    <div class=\"colab-df-container\">\n",
              "      <div>\n",
              "<style scoped>\n",
              "    .dataframe tbody tr th:only-of-type {\n",
              "        vertical-align: middle;\n",
              "    }\n",
              "\n",
              "    .dataframe tbody tr th {\n",
              "        vertical-align: top;\n",
              "    }\n",
              "\n",
              "    .dataframe thead th {\n",
              "        text-align: right;\n",
              "    }\n",
              "</style>\n",
              "<table border=\"1\" class=\"dataframe\">\n",
              "  <thead>\n",
              "    <tr style=\"text-align: right;\">\n",
              "      <th></th>\n",
              "      <th>pp750ml</th>\n",
              "      <th>wine_names</th>\n",
              "      <th>year</th>\n",
              "      <th>price</th>\n",
              "      <th>region</th>\n",
              "      <th>country</th>\n",
              "      <th>quantity</th>\n",
              "      <th>ml</th>\n",
              "      <th>numbottles</th>\n",
              "      <th>new_names</th>\n",
              "    </tr>\n",
              "  </thead>\n",
              "  <tbody>\n",
              "    <tr>\n",
              "      <th>0</th>\n",
              "      <td>10.30</td>\n",
              "      <td>Red Wine Cabrita 2017, 75cl Regional Algarve</td>\n",
              "      <td>2017</td>\n",
              "      <td>10.30</td>\n",
              "      <td>algarve</td>\n",
              "      <td>port</td>\n",
              "      <td>750 ml</td>\n",
              "      <td>750</td>\n",
              "      <td>1</td>\n",
              "      <td>cabrita regional</td>\n",
              "    </tr>\n",
              "    <tr>\n",
              "      <th>1</th>\n",
              "      <td>17.99</td>\n",
              "      <td>2017, QUINTA DO CONVENTO DO PARAISO \"EUPHORIA\"...</td>\n",
              "      <td>2017</td>\n",
              "      <td>17.99</td>\n",
              "      <td>algarve</td>\n",
              "      <td>port</td>\n",
              "      <td>750 ml</td>\n",
              "      <td>750</td>\n",
              "      <td>1</td>\n",
              "      <td>quinta do convento do paraiso euphoria vinho ...</td>\n",
              "    </tr>\n",
              "    <tr>\n",
              "      <th>2</th>\n",
              "      <td>7.51</td>\n",
              "      <td>Adega do Cantor - Sociedade de Vitivinicultura...</td>\n",
              "      <td>2015</td>\n",
              "      <td>7.51</td>\n",
              "      <td>algarve</td>\n",
              "      <td>port</td>\n",
              "      <td>750 ml</td>\n",
              "      <td>750</td>\n",
              "      <td>1</td>\n",
              "      <td>adega do cantor sociedade de vitiviniculturada...</td>\n",
              "    </tr>\n",
              "    <tr>\n",
              "      <th>3</th>\n",
              "      <td>7.51</td>\n",
              "      <td>Adega do Cantor - Sociedade de Vitivinicultura...</td>\n",
              "      <td>2014</td>\n",
              "      <td>7.51</td>\n",
              "      <td>algarve</td>\n",
              "      <td>port</td>\n",
              "      <td>750 ml</td>\n",
              "      <td>750</td>\n",
              "      <td>1</td>\n",
              "      <td>adega do cantor sociedade de vitiviniculturada...</td>\n",
              "    </tr>\n",
              "    <tr>\n",
              "      <th>4</th>\n",
              "      <td>13.56</td>\n",
              "      <td>Al-Ria Reserve Red 2019, Algarve, Portugal</td>\n",
              "      <td>2019</td>\n",
              "      <td>13.56</td>\n",
              "      <td>algarve</td>\n",
              "      <td>port</td>\n",
              "      <td>750 ml</td>\n",
              "      <td>750</td>\n",
              "      <td>1</td>\n",
              "      <td>alria white</td>\n",
              "    </tr>\n",
              "    <tr>\n",
              "      <th>...</th>\n",
              "      <td>...</td>\n",
              "      <td>...</td>\n",
              "      <td>...</td>\n",
              "      <td>...</td>\n",
              "      <td>...</td>\n",
              "      <td>...</td>\n",
              "      <td>...</td>\n",
              "      <td>...</td>\n",
              "      <td>...</td>\n",
              "      <td>...</td>\n",
              "    </tr>\n",
              "    <tr>\n",
              "      <th>9225</th>\n",
              "      <td>53.39</td>\n",
              "      <td>Weingut Graf Neipperg, Schlossberg Spatburgund...</td>\n",
              "      <td>2017</td>\n",
              "      <td>53.39</td>\n",
              "      <td>wurrtenberg</td>\n",
              "      <td>germany</td>\n",
              "      <td>750 ml</td>\n",
              "      <td>750</td>\n",
              "      <td>1</td>\n",
              "      <td>weingut graf neipperg schlossberg riesling gg</td>\n",
              "    </tr>\n",
              "    <tr>\n",
              "      <th>9226</th>\n",
              "      <td>56.66</td>\n",
              "      <td>Weingut Graf Neipperg, Schlossberg Spatburgund...</td>\n",
              "      <td>2016</td>\n",
              "      <td>56.66</td>\n",
              "      <td>wurrtenberg</td>\n",
              "      <td>germany</td>\n",
              "      <td>750 ml</td>\n",
              "      <td>750</td>\n",
              "      <td>1</td>\n",
              "      <td>weingut graf neipperg schlossberg riesling gg</td>\n",
              "    </tr>\n",
              "    <tr>\n",
              "      <th>9227</th>\n",
              "      <td>63.20</td>\n",
              "      <td>Weingut Graf Neipperg, Schlossberg Spatburgund...</td>\n",
              "      <td>2014</td>\n",
              "      <td>63.20</td>\n",
              "      <td>wurrtenberg</td>\n",
              "      <td>germany</td>\n",
              "      <td>750 ml</td>\n",
              "      <td>750</td>\n",
              "      <td>1</td>\n",
              "      <td>weingut graf neipperg schlossberg riesling gg</td>\n",
              "    </tr>\n",
              "    <tr>\n",
              "      <th>9228</th>\n",
              "      <td>73.01</td>\n",
              "      <td>Weingut Graf Neipperg, Schlossberg Spatburgund...</td>\n",
              "      <td>2011</td>\n",
              "      <td>73.01</td>\n",
              "      <td>wurrtenberg</td>\n",
              "      <td>germany</td>\n",
              "      <td>750 ml</td>\n",
              "      <td>750</td>\n",
              "      <td>1</td>\n",
              "      <td>weingut graf neipperg schlossberg riesling gg</td>\n",
              "    </tr>\n",
              "    <tr>\n",
              "      <th>9229</th>\n",
              "      <td>21.99</td>\n",
              "      <td>2016 Weingut Rainer Schnaitmann Simonroth Lemb...</td>\n",
              "      <td>2016</td>\n",
              "      <td>21.99</td>\n",
              "      <td>wurrtenberg</td>\n",
              "      <td>germany</td>\n",
              "      <td>750 ml</td>\n",
              "      <td>750</td>\n",
              "      <td>1</td>\n",
              "      <td>weingut rainer schnaitmann simonrothemberger w...</td>\n",
              "    </tr>\n",
              "  </tbody>\n",
              "</table>\n",
              "<p>9230 rows × 10 columns</p>\n",
              "</div>\n",
              "      <button class=\"colab-df-convert\" onclick=\"convertToInteractive('df-a54e35e6-f19b-4097-9306-38f0244f4a0a')\"\n",
              "              title=\"Convert this dataframe to an interactive table.\"\n",
              "              style=\"display:none;\">\n",
              "        \n",
              "  <svg xmlns=\"http://www.w3.org/2000/svg\" height=\"24px\"viewBox=\"0 0 24 24\"\n",
              "       width=\"24px\">\n",
              "    <path d=\"M0 0h24v24H0V0z\" fill=\"none\"/>\n",
              "    <path d=\"M18.56 5.44l.94 2.06.94-2.06 2.06-.94-2.06-.94-.94-2.06-.94 2.06-2.06.94zm-11 1L8.5 8.5l.94-2.06 2.06-.94-2.06-.94L8.5 2.5l-.94 2.06-2.06.94zm10 10l.94 2.06.94-2.06 2.06-.94-2.06-.94-.94-2.06-.94 2.06-2.06.94z\"/><path d=\"M17.41 7.96l-1.37-1.37c-.4-.4-.92-.59-1.43-.59-.52 0-1.04.2-1.43.59L10.3 9.45l-7.72 7.72c-.78.78-.78 2.05 0 2.83L4 21.41c.39.39.9.59 1.41.59.51 0 1.02-.2 1.41-.59l7.78-7.78 2.81-2.81c.8-.78.8-2.07 0-2.86zM5.41 20L4 18.59l7.72-7.72 1.47 1.35L5.41 20z\"/>\n",
              "  </svg>\n",
              "      </button>\n",
              "      \n",
              "  <style>\n",
              "    .colab-df-container {\n",
              "      display:flex;\n",
              "      flex-wrap:wrap;\n",
              "      gap: 12px;\n",
              "    }\n",
              "\n",
              "    .colab-df-convert {\n",
              "      background-color: #E8F0FE;\n",
              "      border: none;\n",
              "      border-radius: 50%;\n",
              "      cursor: pointer;\n",
              "      display: none;\n",
              "      fill: #1967D2;\n",
              "      height: 32px;\n",
              "      padding: 0 0 0 0;\n",
              "      width: 32px;\n",
              "    }\n",
              "\n",
              "    .colab-df-convert:hover {\n",
              "      background-color: #E2EBFA;\n",
              "      box-shadow: 0px 1px 2px rgba(60, 64, 67, 0.3), 0px 1px 3px 1px rgba(60, 64, 67, 0.15);\n",
              "      fill: #174EA6;\n",
              "    }\n",
              "\n",
              "    [theme=dark] .colab-df-convert {\n",
              "      background-color: #3B4455;\n",
              "      fill: #D2E3FC;\n",
              "    }\n",
              "\n",
              "    [theme=dark] .colab-df-convert:hover {\n",
              "      background-color: #434B5C;\n",
              "      box-shadow: 0px 1px 3px 1px rgba(0, 0, 0, 0.15);\n",
              "      filter: drop-shadow(0px 1px 2px rgba(0, 0, 0, 0.3));\n",
              "      fill: #FFFFFF;\n",
              "    }\n",
              "  </style>\n",
              "\n",
              "      <script>\n",
              "        const buttonEl =\n",
              "          document.querySelector('#df-a54e35e6-f19b-4097-9306-38f0244f4a0a button.colab-df-convert');\n",
              "        buttonEl.style.display =\n",
              "          google.colab.kernel.accessAllowed ? 'block' : 'none';\n",
              "\n",
              "        async function convertToInteractive(key) {\n",
              "          const element = document.querySelector('#df-a54e35e6-f19b-4097-9306-38f0244f4a0a');\n",
              "          const dataTable =\n",
              "            await google.colab.kernel.invokeFunction('convertToInteractive',\n",
              "                                                     [key], {});\n",
              "          if (!dataTable) return;\n",
              "\n",
              "          const docLinkHtml = 'Like what you see? Visit the ' +\n",
              "            '<a target=\"_blank\" href=https://colab.research.google.com/notebooks/data_table.ipynb>data table notebook</a>'\n",
              "            + ' to learn more about interactive tables.';\n",
              "          element.innerHTML = '';\n",
              "          dataTable['output_type'] = 'display_data';\n",
              "          await google.colab.output.renderOutput(dataTable, element);\n",
              "          const docLink = document.createElement('div');\n",
              "          docLink.innerHTML = docLinkHtml;\n",
              "          element.appendChild(docLink);\n",
              "        }\n",
              "      </script>\n",
              "    </div>\n",
              "  </div>\n",
              "  "
            ]
          },
          "metadata": {},
          "execution_count": 110
        }
      ]
    },
    {
      "cell_type": "code",
      "source": [
        "from sklearn.preprocessing import LabelEncoder\n",
        "\n",
        "# Create a label encoder object\n",
        "label_encoder = LabelEncoder()\n",
        "\n",
        "# Fit the label encoder to the new_names column\n",
        "label_encoder.fit(df['new_names'])\n",
        "\n",
        "df['numbottles'] = df['numbottles'].replace('1/2', '.5', regex=True)\n",
        "\n",
        "# Transform the new_names column using the label encoder\n",
        "df['new_names_encoded'] = label_encoder.transform(df['new_names'])\n",
        "new_names_mapping = dict(zip(label_encoder.transform(label_encoder.classes_), label_encoder.classes_)) #dictionary for label encoded column\\\n",
        "# one hot encode the region and country columns\n",
        "region_dummies = pd.get_dummies(df['region'], prefix='region')\n",
        "country_dummies = pd.get_dummies(df['country'], prefix='country')\n",
        "\n",
        "# concatenate the original dataframe with the one hot encoded columns\n",
        "df = pd.concat([df, region_dummies, country_dummies], axis=1)\n",
        "\n",
        "# drop the original region and country columns\n",
        "df = df.drop(['region', 'country', 'price', 'wine_names', 'new_names', 'quantity'], axis=1)\n",
        "\n"
      ],
      "metadata": {
        "id": "iGdMZKGtl1k8"
      },
      "execution_count": 111,
      "outputs": []
    },
    {
      "cell_type": "code",
      "source": [
        "from sklearn.model_selection import train_test_split\n",
        "import numpy as np \n",
        "y= df['pp750ml']\n",
        "x = df.loc[:, ~df.columns.isin(['pp750ml'])]\n",
        "X_train, X_test, y_train, y_test = train_test_split(x, y)"
      ],
      "metadata": {
        "id": "HGcppgm-3uTP"
      },
      "execution_count": 112,
      "outputs": []
    },
    {
      "cell_type": "markdown",
      "source": [
        "# Linear Regresssion is okay decision tree is okay"
      ],
      "metadata": {
        "id": "0buCwsyQ9qF7"
      }
    },
    {
      "cell_type": "code",
      "source": [
        "from sklearn.linear_model import LinearRegression\n",
        "\n",
        "# Initialize the model\n",
        "model = LinearRegression()\n",
        "\n",
        "# Fit the model to your data\n",
        "model.fit(X_train, y_train)\n",
        "\n",
        "# Make predictions on new data\n",
        "y_pred = model.predict(X_test)"
      ],
      "metadata": {
        "id": "o_Zh3Oxj3vS9"
      },
      "execution_count": 113,
      "outputs": []
    },
    {
      "cell_type": "code",
      "source": [
        "from sklearn.metrics import mean_squared_error, r2_score\n",
        "import numpy as np\n",
        "\n",
        "# Calculate mean squared error\n",
        "mse = mean_squared_error(y_test, y_pred)\n",
        "print(\"Mean Squared Error:\", mse)\n",
        "\n",
        "# Calculate root mean squared error\n",
        "rmse = np.sqrt(mse)\n",
        "print(\"Root Mean Squared Error:\", rmse)\n",
        "\n",
        "# Calculate R-squared\n",
        "r2 = r2_score(y_test, y_pred)\n",
        "print(\"R-squared:\", r2)"
      ],
      "metadata": {
        "id": "Z3QZvKfOo-S6",
        "outputId": "5c94d819-a600-47e9-baa7-297f9bf37b01",
        "colab": {
          "base_uri": "https://localhost:8080/"
        }
      },
      "execution_count": 114,
      "outputs": [
        {
          "output_type": "stream",
          "name": "stdout",
          "text": [
            "Mean Squared Error: 6104097.941265315\n",
            "Root Mean Squared Error: 2470.6472717215856\n",
            "R-squared: 0.18781016216446278\n"
          ]
        }
      ]
    },
    {
      "cell_type": "code",
      "source": [
        "from sklearn.tree import DecisionTreeRegressor\n",
        "\n",
        "# Initialize the model\n",
        "model = DecisionTreeRegressor()\n",
        "\n",
        "# Fit the model to your data\n",
        "model.fit(X_train, y_train)\n",
        "\n",
        "# Make predictions on new data\n",
        "y_pred = model.predict(X_test)"
      ],
      "metadata": {
        "id": "FYT5rmEV89SC"
      },
      "execution_count": 115,
      "outputs": []
    },
    {
      "cell_type": "code",
      "source": [
        "from sklearn.metrics import mean_squared_error, r2_score\n",
        "import numpy as np\n",
        "\n",
        "# Calculate mean squared error\n",
        "mse = mean_squared_error(y_test, y_pred)\n",
        "print(\"Mean Squared Error:\", mse)\n",
        "\n",
        "# Calculate root mean squared error\n",
        "rmse = np.sqrt(mse)\n",
        "print(\"Root Mean Squared Error:\", rmse)\n",
        "\n",
        "# Calculate R-squared\n",
        "r2 = r2_score(y_test, y_pred)\n",
        "print(\"R-squared:\", r2)"
      ],
      "metadata": {
        "id": "REMweys3pCTy",
        "outputId": "c7337bef-b604-4441-f074-dd32e98e7773",
        "colab": {
          "base_uri": "https://localhost:8080/"
        }
      },
      "execution_count": 116,
      "outputs": [
        {
          "output_type": "stream",
          "name": "stdout",
          "text": [
            "Mean Squared Error: 5650540.436028482\n",
            "Root Mean Squared Error: 2377.0865436555905\n",
            "R-squared: 0.24815893116718202\n"
          ]
        }
      ]
    },
    {
      "cell_type": "markdown",
      "source": [
        "# Random Forest is good\n",
        "\n",
        "> Other code as well\n",
        "\n",
        "\n"
      ],
      "metadata": {
        "id": "AJYcLINL9bcV"
      }
    },
    {
      "cell_type": "code",
      "source": [
        "from sklearn.ensemble import RandomForestRegressor\n",
        "\n",
        "# Initialize the model\n",
        "model = RandomForestRegressor(n_estimators=200, max_depth=30, min_samples_split=2, min_samples_leaf=2)\n",
        "\n",
        "# Fit the model to your data\n",
        "model.fit(X_train, y_train)\n",
        "\n",
        "# Make predictions on new data\n",
        "y_pred = model.predict(X_test)"
      ],
      "metadata": {
        "id": "DeFLqy9I9ACS"
      },
      "execution_count": 121,
      "outputs": []
    },
    {
      "cell_type": "code",
      "source": [
        "from sklearn.metrics import mean_squared_error, r2_score\n",
        "import numpy as np\n",
        "\n",
        "# Calculate mean squared error\n",
        "mse = mean_squared_error(y_test, y_pred)\n",
        "print(\"Mean Squared Error:\", mse)\n",
        "\n",
        "# Calculate root mean squared error\n",
        "rmse = np.sqrt(mse)\n",
        "print(\"Root Mean Squared Error:\", rmse)\n",
        "\n",
        "# Calculate R-squared\n",
        "r2 = r2_score(y_test, y_pred)\n",
        "print(\"R-squared:\", r2)"
      ],
      "metadata": {
        "id": "rV-CJJAQpEEV",
        "outputId": "decd58b2-9246-4ab6-b85b-e980ace172c7",
        "colab": {
          "base_uri": "https://localhost:8080/"
        }
      },
      "execution_count": 122,
      "outputs": [
        {
          "output_type": "stream",
          "name": "stdout",
          "text": [
            "Mean Squared Error: 4478372.993223847\n",
            "Root Mean Squared Error: 2116.2166697254434\n",
            "R-squared: 0.40412341510045413\n"
          ]
        }
      ]
    },
    {
      "cell_type": "code",
      "source": [
        "from sklearn.model_selection import cross_val_score\n",
        "\n",
        "# Initialize the model\n",
        "model = RandomForestRegressor(n_estimators=200, max_depth=30, min_samples_split=2, min_samples_leaf=2)\n",
        "\n",
        "# Perform k-fold cross-validation\n",
        "scores = cross_val_score(model, x, y, cv=5, scoring='r2')\n",
        "\n",
        "# Print the cross-validation scores\n",
        "print(\"Cross-validation scores:\", scores)\n",
        "print(\"Mean cross-validation score:\", np.mean(scores))"
      ],
      "metadata": {
        "id": "CGxouQ-Crxyv",
        "outputId": "a9a5bfaa-e3c3-4bda-c2f9-d9d805514946",
        "colab": {
          "base_uri": "https://localhost:8080/"
        }
      },
      "execution_count": 108,
      "outputs": [
        {
          "output_type": "stream",
          "name": "stdout",
          "text": [
            "Cross-validation scores: [-0.09523979 -0.07699227 -0.0572573  -0.0160766  -1.44357981]\n",
            "Mean cross-validation score: -0.3378291528996119\n"
          ]
        }
      ]
    },
    {
      "cell_type": "code",
      "source": [
        "from sklearn.model_selection import GridSearchCV\n",
        "from sklearn.ensemble import RandomForestRegressor\n",
        "\n",
        "# Define the parameter grid to search over\n",
        "param_grid = {\n",
        "    'n_estimators': [50, 100, 200],\n",
        "    'max_depth': [10, 20, 30],\n",
        "    'min_samples_split': [2, 5, 10],\n",
        "    'min_samples_leaf': [1, 2, 4],\n",
        "}\n",
        "\n",
        "# Initialize the model\n",
        "model = RandomForestRegressor()\n",
        "\n",
        "# Initialize the GridSearchCV object\n",
        "grid_search = GridSearchCV(estimator=model, param_grid=param_grid, cv=5, scoring='r2')\n",
        "\n",
        "# Fit the GridSearchCV object to the data\n",
        "grid_search.fit(X_train, y_train)\n",
        "\n",
        "# Print the best hyperparameters and best score\n",
        "print(\"Best hyperparameters:\", grid_search.best_params_)\n",
        "print(\"Best score:\", grid_search.best_score_)"
      ],
      "metadata": {
        "id": "wfwzgEptsHPC",
        "outputId": "a20badc1-a9b0-4aca-91d0-50109b05ca5b",
        "colab": {
          "base_uri": "https://localhost:8080/"
        }
      },
      "execution_count": 88,
      "outputs": [
        {
          "output_type": "stream",
          "name": "stdout",
          "text": [
            "Best hyperparameters: {'max_depth': 30, 'min_samples_leaf': 2, 'min_samples_split': 2, 'n_estimators': 200}\n",
            "Best score: 0.5110788905013561\n"
          ]
        }
      ]
    },
    {
      "cell_type": "markdown",
      "source": [
        "# SVR is bad\n"
      ],
      "metadata": {
        "id": "aPFZQK2I9VU_"
      }
    },
    {
      "cell_type": "code",
      "source": [
        "from sklearn.svm import SVR\n",
        "\n",
        "# Initialize the model\n",
        "model = SVR()\n",
        "\n",
        "# Fit the model to your data\n",
        "model.fit(X_train, y_train)\n",
        "\n",
        "# Make predictions on new data\n",
        "y_pred = model.predict(X_test)"
      ],
      "metadata": {
        "id": "_etIh-gg9Dn7"
      },
      "execution_count": 119,
      "outputs": []
    },
    {
      "cell_type": "code",
      "source": [
        "from sklearn.metrics import mean_squared_error, r2_score\n",
        "import numpy as np\n",
        "\n",
        "# Calculate mean squared error\n",
        "mse = mean_squared_error(y_test, y_pred)\n",
        "print(\"Mean Squared Error:\", mse)\n",
        "\n",
        "# Calculate root mean squared error\n",
        "rmse = np.sqrt(mse)\n",
        "print(\"Root Mean Squared Error:\", rmse)\n",
        "\n",
        "# Calculate R-squared\n",
        "r2 = r2_score(y_test, y_pred)\n",
        "print(\"R-squared:\", r2)"
      ],
      "metadata": {
        "id": "bPg39qEdpI_t",
        "outputId": "dc34a64e-6965-4822-8260-ae25ab163ac3",
        "colab": {
          "base_uri": "https://localhost:8080/"
        }
      },
      "execution_count": 120,
      "outputs": [
        {
          "output_type": "stream",
          "name": "stdout",
          "text": [
            "Mean Squared Error: 7952242.175169601\n",
            "Root Mean Squared Error: 2819.9720167352016\n",
            "R-squared: -0.058097419934433514\n"
          ]
        }
      ]
    },
    {
      "cell_type": "code",
      "source": [
        "import matplotlib.pyplot as plt\n",
        "\n",
        "# Create scatter plot of actual vs predicted values\n",
        "plt.scatter(y_test, y_pred, alpha=0.5)\n",
        "plt.title('Actual vs. Predicted')\n",
        "plt.xlabel('Actual')\n",
        "plt.ylabel('Predicted')\n",
        "plt.show()"
      ],
      "metadata": {
        "id": "9LtcyPyCpdNk",
        "outputId": "7d9ccc93-0bb1-4e0e-8d6a-ff8e6fb28594",
        "colab": {
          "base_uri": "https://localhost:8080/",
          "height": 472
        }
      },
      "execution_count": 123,
      "outputs": [
        {
          "output_type": "display_data",
          "data": {
            "text/plain": [
              "<Figure size 640x480 with 1 Axes>"
            ],
            "image/png": "[encoded data removed]"
          },
          "metadata": {}
        }
      ]
    }
  ]
}